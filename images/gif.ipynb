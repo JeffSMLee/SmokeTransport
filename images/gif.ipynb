{
 "cells": [
  {
   "cell_type": "code",
   "execution_count": 1,
   "id": "a6449dbc-1005-400c-b734-c4be3e5d1b40",
   "metadata": {},
   "outputs": [],
   "source": [
    "import glob\n",
    "from PIL import Image"
   ]
  },
  {
   "cell_type": "code",
   "execution_count": 2,
   "id": "c8b5a606-af07-4ae0-8883-0525a93143bb",
   "metadata": {},
   "outputs": [],
   "source": [
    "frames = [Image.open(image) for image in glob.glob(f\"./pm25*\")]\n",
    "frame_one = frames[0]\n",
    "frame_one.save(\"pm25_2013-2014.gif\", format=\"GIF\", append_images=frames,\n",
    "           save_all=True, duration=100, loop=0)"
   ]
  },
  {
   "cell_type": "code",
   "execution_count": null,
   "id": "d268be68-4672-44f6-8dd7-5f69f6d26dec",
   "metadata": {},
   "outputs": [],
   "source": []
  }
 ],
 "metadata": {
  "kernelspec": {
   "display_name": "Python 3 (ipykernel)",
   "language": "python",
   "name": "python3"
  },
  "language_info": {
   "codemirror_mode": {
    "name": "ipython",
    "version": 3
   },
   "file_extension": ".py",
   "mimetype": "text/x-python",
   "name": "python",
   "nbconvert_exporter": "python",
   "pygments_lexer": "ipython3",
   "version": "3.9.7"
  }
 },
 "nbformat": 4,
 "nbformat_minor": 5
}
